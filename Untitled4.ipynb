{
  "nbformat": 4,
  "nbformat_minor": 0,
  "metadata": {
    "colab": {
      "provenance": []
    },
    "kernelspec": {
      "name": "python3",
      "display_name": "Python 3"
    },
    "language_info": {
      "name": "python"
    }
  },
  "cells": [
    {
      "cell_type": "markdown",
      "source": [
        "**Introduction to Data**"
      ],
      "metadata": {
        "id": "djyGZwNmyiZq"
      }
    },
    {
      "cell_type": "markdown",
      "source": [
        "This notebook provides a basic introduction to Data Science concepts, including languages, libraries, tools, and arithmetic expressions\n",
        "\n",
        "Data science is a field that involves using statistical and computational techniques to extract insights and knowledge from data. It encompasses a wide range of tasks, including data cleaning and preparation, data visualization, statistical modeling, machine learning, and more. Data scientists use these techniques to discover patterns and trends in data, make predictions, and support decision-making. They may work with a variety of data types, including structured data (such as numbers and dates in a spreadsheet) and unstructured data (such as text, images, or audio). Data science is used in a wide range of industries, including finance, healthcare, retail, and more.\n",
        "\n",
        "Data science is a multidisciplinary field that uses statistical and computational methods to extract insights and knowledge from data. It involves a combination of skills and knowledge from various fields such as statistics, computer science, mathematics, and domain expertise.\n",
        "\n",
        "The process of data science involves several steps, including data collection, cleaning, exploration, analysis, and interpretation. These steps are often iterative, and the process may be refined based on the results obtained."
      ],
      "metadata": {
        "id": "RSK-yhuAymf_"
      }
    },
    {
      "cell_type": "markdown",
      "source": [
        "**List of all Data Science Programming language:**\n",
        "\n",
        "1.   Python\n",
        "2.   R\n",
        "3.   Scala\n",
        "4.   Julia\n",
        "\n",
        "\n"
      ],
      "metadata": {
        "id": "X_u_cWIKymzI"
      }
    },
    {
      "cell_type": "markdown",
      "source": [
        "**Data science Libraries in python :**\n",
        "1.   NumPy\n",
        "2.   Pandas\n",
        "3.   Matplotlib\n",
        "4.   Scikit-learn\n",
        "5.   Tensor flow\n",
        "6.   PyTorch\n",
        "\n"
      ],
      "metadata": {
        "id": "Qx23T_Vlym_e"
      }
    },
    {
      "cell_type": "markdown",
      "source": [
        "**Data Science tools:**\n",
        "\n",
        "\n",
        "1.   Jupyter\n",
        "2.   Notebook\n",
        "3.   Apache\n",
        "4.   Spark\n",
        "5.   Git\n",
        "6.   SQL\n",
        "\n"
      ],
      "metadata": {
        "id": "ZxQwrtGcynLy"
      }
    },
    {
      "cell_type": "markdown",
      "source": [
        "**Arithematic Expressions**\n",
        "\n",
        "*   Arithmetic expressions combine numbers and operators to perform calculations. Examples include\n",
        "\n",
        "\n",
        "1.   Addition (+)\n",
        "2.   Multiplication (*)\n",
        "3.   Integer Division (/)\n",
        "4.   Float Division (//)\n",
        "5.   Exponent (**)\n",
        "6.   Substraction (-)\n",
        "\n"
      ],
      "metadata": {
        "id": "MWpWBwVfync7"
      }
    },
    {
      "cell_type": "code",
      "execution_count": 1,
      "metadata": {
        "colab": {
          "base_uri": "https://localhost:8080/"
        },
        "id": "MiHF1dJZyd1R",
        "outputId": "10c04d75-0336-4390-aba8-9874fa79af54"
      },
      "outputs": [
        {
          "output_type": "stream",
          "name": "stdout",
          "text": [
            "The product of 10 and 5 is: 50\n",
            "The sum of 10 and 5 is: 15\n"
          ]
        }
      ],
      "source": [
        "num1 = 10\n",
        "num2 = 5\n",
        "product = num1 * num2\n",
        "sum = num1 + num2\n",
        "print(f\"The product of {num1} and {num2} is: {product}\")\n",
        "print(f\"The sum of {num1} and {num2} is: {sum}\")"
      ]
    },
    {
      "cell_type": "code",
      "source": [
        "\n",
        "minutes = 60\n",
        "hours = minutes / 60\n",
        "print(f\"{minutes} minutes is equal to {hours} hours.\")\n"
      ],
      "metadata": {
        "colab": {
          "base_uri": "https://localhost:8080/"
        },
        "id": "eALRKGLv1oQz",
        "outputId": "ff5bfd5a-4010-45a6-f831-f7b48463d019"
      },
      "execution_count": 2,
      "outputs": [
        {
          "output_type": "stream",
          "name": "stdout",
          "text": [
            "60 minutes is equal to 1.0 hours.\n"
          ]
        }
      ]
    },
    {
      "cell_type": "markdown",
      "source": [
        "**Objective**\n",
        "* Get familiar with fundamental Data Science concepts\n",
        "* Learn about popular Data Science languages and libraries.\n",
        "* Understand how to perform basic arithmetic operations in Python."
      ],
      "metadata": {
        "id": "jkcFg6AC1t9j"
      }
    },
    {
      "cell_type": "markdown",
      "source": [
        "**Author**\n",
        "\n",
        "\n",
        "*   Ambati Chandra mouli\n",
        "\n"
      ],
      "metadata": {
        "id": "NAuvkXS-1-uC"
      }
    }
  ]
}